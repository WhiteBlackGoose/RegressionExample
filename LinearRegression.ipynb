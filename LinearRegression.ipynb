{
 "cells": [
  {
   "cell_type": "markdown",
   "metadata": {},
   "source": [
    "# Linear regression\n",
    "The linear regression formula we're going to use is\n",
    "$$y_i = a_0 f_0(x_i) + a_1 f_1(x_i) + ... + a_n f_n(x_i)$$\n",
    "and we're going to minimize Mean Squared Error:\n",
    "$$MSE = \\sum_i \\left(\\sum_j \\left(a_j f_j(x_i)\\right) - y_i\\right)^2$$"
   ]
  },
  {
   "cell_type": "code",
   "execution_count": 2,
   "metadata": {},
   "outputs": [
    {
     "data": {
      "text/html": [
       "<div><div><strong>Restore sources</strong><ul><li><span>https://www.myget.org/F/angourimath/api/v3/index.json</span></li></ul></div><div></div><div><strong>Installed Packages</strong><ul><li><span>AngouriMath.Interactive, 0.0.0-master-1646682623-e8428b2</span></li></ul></div></div>"
      ]
     },
     "metadata": {},
     "output_type": "display_data"
    },
    {
     "data": {
      "text/markdown": [
       "Loading extensions from `AngouriMath.Interactive.dll`"
      ]
     },
     "metadata": {},
     "output_type": "display_data"
    },
    {
     "name": "stdout",
     "output_type": "stream",
     "text": [
      "LaTeX renderer binded. Enjoy!\n"
     ]
    }
   ],
   "source": [
    "#i \"https://www.myget.org/F/angourimath/api/v3/index.json\"\n",
    "#r \"nuget:AngouriMath.Interactive, 0.0.0-master-1646682623-e8428b2\""
   ]
  },
  {
   "cell_type": "code",
   "execution_count": null,
   "metadata": {},
   "outputs": [],
   "source": [
    "open AngouriMath.FSharp.Shortcuts"
   ]
  },
  {
   "cell_type": "markdown",
   "metadata": {},
   "source": [
    "## Data"
   ]
  },
  {
   "cell_type": "code",
   "execution_count": null,
   "metadata": {},
   "outputs": [],
   "source": [
    "let X, Y = List.unzip [\n",
    "    1., 1.\n",
    "    2., 3.\n",
    "    6., 5.\n",
    "    8., 9.5\n",
    "]\n",
    "let XY = List.zip X Y"
   ]
  },
  {
   "cell_type": "markdown",
   "metadata": {},
   "source": [
    "## Column transformations\n",
    "These are functions of `x`. The linear regression formula we're going to use is\n",
    "$$y_i = a_0 f_0(x_i) + a_1 f_1(x_i) + ... + a_n f_n(x_i)$$\n",
    "and we're going to minimize Mean Squared Error:\n",
    "$$MSE = \\sum_i \\left(\\sum_j \\left(a_j f_j(x_i)\\right) - y_i\\right)^2$$"
   ]
  },
  {
   "cell_type": "code",
   "execution_count": null,
   "metadata": {},
   "outputs": [],
   "source": [
    "let fs = [\n",
    "    \"1\"\n",
    "    \"x\"\n",
    "]"
   ]
  },
  {
   "cell_type": "code",
   "execution_count": 3,
   "metadata": {},
   "outputs": [
    {
     "name": "stderr",
     "output_type": "stream",
     "text": [
      "\n",
      "input.fsx (2,18)-(2,24) typecheck error Тип \"Entity\" не определен.\n",
      "\n",
      "input.fsx (2,75)-(2,81) typecheck error Значение или конструктор \"parsed\" не определены.\n",
      "\n"
     ]
    },
    {
     "ename": "Cell not executed",
     "evalue": "compilation error",
     "output_type": "error",
     "traceback": []
    }
   ],
   "source": [
    "// just summing all elements\n",
    "let listAdd (a : Entity list) = List.fold (fun acc value -> acc + value) (parsed 0) a"
   ]
  },
  {
   "cell_type": "markdown",
   "metadata": {},
   "source": [
    "## Solve system\n",
    "To be able to minimize MSE, we shall say that\n",
    "$$\\forall k: \\frac{\\delta}{\\delta a_k} MSE = 0$$\n",
    "$$\\forall k: \\frac{\\delta}{\\delta a_k} \\sum_i \\left(\\sum_j \\left(a_j f_j(x_i)\\right) - y_i\\right)^2 = 0$$\n",
    "$$\\forall k: \\sum_j (a_i \\sum_j f_k(x_i) f_j(x_i)) - \\sum_i y_i f_k(x_i) = 0$$\n",
    "Now we can rewrite it into matrix:\n",
    "$$\n",
    "\\begin{bmatrix}\n",
    "\\sum f_1(x_i) f_1(x_i) & \\sum f_1(x_i) f_2(x_i) & ... & \\sum f_1(x_i) f_n(x_i)\\\\\n",
    "\\sum f_2(x_i) f_1(x_i) & \\sum f_2(x_i) f_2(x_i) & ... & \\sum f_2(x_i) f_n(x_i)\\\\\n",
    "\\vdots           & \\vdots                    &     & \\vdots  \\\\\n",
    "\\sum f_n(x_i) f_1(x_i) & \\sum f_n(x_i) f_2(x_i) & ... & \\sum f_n(x_i) f_n(x_i)\\\\\n",
    "\\end{bmatrix}\n",
    "\\begin{bmatrix}\n",
    "a_1\\\\\n",
    "a_2\\\\\n",
    "\\vdots\\\\\n",
    "a_n\\\\\n",
    "\\end{bmatrix}\n",
    "=\n",
    "\\begin{bmatrix}\n",
    "\\sum y_i f_1(x_i)\\\\\n",
    "\\sum y_i f_2(x_i)\\\\\n",
    "\\vdots\\\\\n",
    "\\sum y_i f_n(x_i)\\\\\n",
    "\\end{bmatrix}\n",
    "$$"
   ]
  },
  {
   "cell_type": "code",
   "execution_count": 5,
   "metadata": {},
   "outputs": [
    {
     "name": "stderr",
     "output_type": "stream",
     "text": [
      "\n",
      "input.fsx (1,9)-(1,19) typecheck error Значение или конструктор \"matrixWith\" не определены. Возможно, требуется одно из следующих:\n",
      "   Math\n",
      "\n",
      "input.fsx (7,10)-(7,20) typecheck error Значение или конструктор \"simplified\" не определены.\n",
      "\n",
      "input.fsx (7,27)-(7,33) typecheck error Пространство имен или модуль \"Entity\" не определены.\n",
      "\n",
      "input.fsx (8,12)-(8,36) typecheck error Поиск объекта неопределенного типа, основанного на информации до данной точки программы. Возможно, перед данной точкой программы потребуется аннотация типа, с целью ограничения типа объекта. Возможно, это позволит разрешить поиск.\n",
      "\n"
     ]
    },
    {
     "ename": "Cell not executed",
     "evalue": "compilation error",
     "output_type": "error",
     "traceback": []
    }
   ],
   "source": [
    "let A = matrixWith (Seq.length fs) (Seq.length fs + 1) (fun x y ->\n",
    "    if y = Seq.length fs then\n",
    "        XY |> List.map (fun (xi, yi) -> parsed yi * (fs[x] <|- (\"x\", xi))) |> listAdd\n",
    "    else\n",
    "        X |> List.map (fun xi -> (fs[x] <|- (\"x\", xi)) * (fs[y] <|- (\"x\", xi))) |> listAdd\n",
    ")\n",
    "let Ac = simplified A :?> Entity.Matrix\n",
    "let rref = Ac.ReducedRowEchelonForm\n",
    "rref"
   ]
  },
  {
   "cell_type": "code",
   "execution_count": 6,
   "metadata": {},
   "outputs": [
    {
     "name": "stderr",
     "output_type": "stream",
     "text": [
      "\n",
      "input.fsx (1,5)-(1,7) parse error Недопустимый ключевое слово \"as\" в привязке\n",
      "\n",
      "input.fsx (2,3)-(2,3) interactive error внутренняя ошибка: parse error\n",
      "\n"
     ]
    },
    {
     "ename": "Cell not executed",
     "evalue": "compilation error",
     "output_type": "error",
     "traceback": []
    }
   ],
   "source": [
    "let aCoefs = [ 0 .. Seq.length fs - 1] |> List.map (fun i -> rref.T[Seq.length fs, i])\n",
    "aCoefs"
   ]
  },
  {
   "cell_type": "code",
   "execution_count": null,
   "metadata": {},
   "outputs": [],
   "source": [
    "let FA = List.zip fs aCoefs"
   ]
  },
  {
   "cell_type": "markdown",
   "metadata": {},
   "source": [
    "## Compute the estimated\n",
    "As data now we take `x` between the max and min, and estimate corresponding `y`."
   ]
  },
  {
   "cell_type": "code",
   "execution_count": null,
   "metadata": {},
   "outputs": [],
   "source": [
    "let xMin, xMax = List.max X, List.min X\n",
    "let xEst = [ xMin .. (xMax - xMin) / 100. .. xMax ]\n",
    "let yEst = xEst |> List.map (fun x -> FA |> List.map (fun (f, a) -> (f <|- (\"x\", x)) * a) |> listAdd) |> List.map (fun x -> x.EvalNumerical() |> double)"
   ]
  },
  {
   "cell_type": "markdown",
   "metadata": {},
   "source": [
    "## Visualize\n",
    "Display the initial data and our estimator"
   ]
  },
  {
   "cell_type": "code",
   "execution_count": null,
   "metadata": {},
   "outputs": [],
   "source": [
    "open Plotly.NET\n",
    "let chart1 = Chart.Point(X, Y)\n",
    "let chart2 = Chart.Point(xEst, yEst)\n",
    "Chart.combine [chart1; chart2]"
   ]
  }
 ],
 "metadata": {
  "kernelspec": {
   "display_name": ".NET (F#)",
   "language": "F#",
   "name": ".net-fsharp"
  },
  "language_info": {
   "file_extension": ".fs",
   "mimetype": "text/x-fsharp",
   "name": "F#",
   "pygments_lexer": "fsharp",
   "version": "5.0"
  },
  "orig_nbformat": 4
 },
 "nbformat": 4,
 "nbformat_minor": 2
}
