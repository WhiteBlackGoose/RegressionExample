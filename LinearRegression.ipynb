{
 "cells": [
  {
   "cell_type": "markdown",
   "metadata": {},
   "source": [
    "# Linear regression\n",
    "The linear regression formula we're going to use is\n",
    "$$y_i = a_0 f_0(x_i) + a_1 f_1(x_i) + ... + a_n f_n(x_i)$$\n",
    "and we're going to minimize Mean Squared Error:\n",
    "$$MSE = \\sum_i \\left(\\sum_j \\left(a_j f_j(x_i)\\right) - y_i\\right)^2$$"
   ]
  },
  {
   "cell_type": "code",
   "execution_count": 2,
   "metadata": {},
   "outputs": [
    {
     "data": {
      "text/html": [
       "<div><div><strong>Restore sources</strong><ul><li><span>https://www.myget.org/F/angourimath/api/v3/index.json</span></li></ul></div><div></div><div><strong>Installed Packages</strong><ul><li><span>AngouriMath.Interactive, 0.0.0-master-1646682623-e8428b2</span></li></ul></div></div>"
      ]
     },
     "metadata": {},
     "output_type": "display_data"
    },
    {
     "data": {
      "text/markdown": [
       "Loading extensions from `AngouriMath.Interactive.dll`"
      ]
     },
     "metadata": {},
     "output_type": "display_data"
    },
    {
     "name": "stdout",
     "output_type": "stream",
     "text": [
      "LaTeX renderer binded. Enjoy!\n"
     ]
    }
   ],
   "source": [
    "#i \"https://www.myget.org/F/angourimath/api/v3/index.json\"\n",
    "#r \"nuget:AngouriMath.Interactive, 0.0.0-master-1646682623-e8428b2\""
   ]
  },
  {
   "cell_type": "code",
   "execution_count": 16,
   "metadata": {},
   "outputs": [],
   "source": [
    "open AngouriMath.FSharp.Shortcuts\n",
    "open AngouriMath\n",
    "open AngouriMath.FSharp.Functions\n",
    "open AngouriMath.FSharp.Core\n",
    "open AngouriMath.FSharp.Matrices"
   ]
  },
  {
   "cell_type": "markdown",
   "metadata": {},
   "source": [
    "## Data"
   ]
  },
  {
   "cell_type": "code",
   "execution_count": 8,
   "metadata": {},
   "outputs": [],
   "source": [
    "let X, Y = List.unzip [\n",
    "    1., 1.\n",
    "    2., 3.\n",
    "    6., 5.\n",
    "    8., 9.5\n",
    "]\n",
    "let XY = List.zip X Y"
   ]
  },
  {
   "cell_type": "markdown",
   "metadata": {},
   "source": [
    "## Column transformations\n",
    "These are functions of `x`. The linear regression formula we're going to use is\n",
    "$$y_i = a_0 f_0(x_i) + a_1 f_1(x_i) + ... + a_n f_n(x_i)$$\n",
    "and we're going to minimize Mean Squared Error:\n",
    "$$MSE = \\sum_i \\left(\\sum_j \\left(a_j f_j(x_i)\\right) - y_i\\right)^2$$"
   ]
  },
  {
   "cell_type": "code",
   "execution_count": 9,
   "metadata": {},
   "outputs": [],
   "source": [
    "let fs = [\n",
    "    \"1\"\n",
    "    \"x\"\n",
    "]"
   ]
  },
  {
   "cell_type": "code",
   "execution_count": 14,
   "metadata": {},
   "outputs": [],
   "source": [
    "// just summing all elements\n",
    "let listAdd (a : Entity list) = List.fold (fun acc value -> acc + value) (parsed 0) a"
   ]
  },
  {
   "cell_type": "markdown",
   "metadata": {},
   "source": [
    "## Solve system\n",
    "To be able to minimize MSE, we shall say that\n",
    "$$\\forall k: \\frac{\\delta}{\\delta a_k} MSE = 0$$\n",
    "$$\\forall k: \\frac{\\delta}{\\delta a_k} \\sum_i \\left(\\sum_j \\left(a_j f_j(x_i)\\right) - y_i\\right)^2 = 0$$\n",
    "$$\\forall k: \\sum_j (a_i \\sum_j f_k(x_i) f_j(x_i)) - \\sum_i y_i f_k(x_i) = 0$$\n",
    "Now we can rewrite it into matrix:\n",
    "$$\n",
    "\\begin{bmatrix}\n",
    "\\sum f_1(x_i) f_1(x_i) & \\sum f_1(x_i) f_2(x_i) & ... & \\sum f_1(x_i) f_n(x_i)\\\\\n",
    "\\sum f_2(x_i) f_1(x_i) & \\sum f_2(x_i) f_2(x_i) & ... & \\sum f_2(x_i) f_n(x_i)\\\\\n",
    "\\vdots           & \\vdots                    &     & \\vdots  \\\\\n",
    "\\sum f_n(x_i) f_1(x_i) & \\sum f_n(x_i) f_2(x_i) & ... & \\sum f_n(x_i) f_n(x_i)\\\\\n",
    "\\end{bmatrix}\n",
    "\\begin{bmatrix}\n",
    "a_1\\\\\n",
    "a_2\\\\\n",
    "\\vdots\\\\\n",
    "a_n\\\\\n",
    "\\end{bmatrix}\n",
    "=\n",
    "\\begin{bmatrix}\n",
    "\\sum y_i f_1(x_i)\\\\\n",
    "\\sum y_i f_2(x_i)\\\\\n",
    "\\vdots\\\\\n",
    "\\sum y_i f_n(x_i)\\\\\n",
    "\\end{bmatrix}\n",
    "$$"
   ]
  },
  {
   "cell_type": "code",
   "execution_count": 17,
   "metadata": {},
   "outputs": [
    {
     "data": {
      "text/latex": [
       "$$\\begin{bmatrix}1 & 0 & \\frac{43}{262} \\\\ 0 & 1 & \\frac{275}{262}\\end{bmatrix}$$"
      ]
     },
     "execution_count": 17,
     "metadata": {},
     "output_type": "execute_result"
    }
   ],
   "source": [
    "let A = matrixWith (Seq.length fs) (Seq.length fs + 1) (fun x y ->\n",
    "    if y = Seq.length fs then\n",
    "        XY |> List.map (fun (xi, yi) -> parsed yi * (fs[x] <|- (\"x\", xi))) |> listAdd\n",
    "    else\n",
    "        X |> List.map (fun xi -> (fs[x] <|- (\"x\", xi)) * (fs[y] <|- (\"x\", xi))) |> listAdd\n",
    ")\n",
    "let Ac = simplified A :?> Entity.Matrix\n",
    "let rref = Ac.ReducedRowEchelonForm\n",
    "rref"
   ]
  },
  {
   "cell_type": "code",
   "execution_count": 18,
   "metadata": {},
   "outputs": [
    {
     "data": {
      "text/html": [
       "<table><thead><tr><th><i>index</i></th><th>value</th></tr></thead><tbody><tr><td>0</td><td>\n",
       "<script src='https://polyfill.io/v3/polyfill.min.js?features=es6'></script>\n",
       "<script id='MathJax-script' async src='https://cdn.jsdelivr.net/npm/mathjax@3/es5/tex-mml-chtml.js'></script>\n",
       "\\[\\frac{43}{262}\\]</td></tr><tr><td>1</td><td>\n",
       "<script src='https://polyfill.io/v3/polyfill.min.js?features=es6'></script>\n",
       "<script id='MathJax-script' async src='https://cdn.jsdelivr.net/npm/mathjax@3/es5/tex-mml-chtml.js'></script>\n",
       "\\[\\frac{275}{262}\\]</td></tr></tbody></table>"
      ]
     },
     "execution_count": 18,
     "metadata": {},
     "output_type": "execute_result"
    }
   ],
   "source": [
    "let aCoefs = [ 0 .. Seq.length fs - 1] |> List.map (fun i -> rref.T[Seq.length fs, i])\n",
    "aCoefs"
   ]
  },
  {
   "cell_type": "code",
   "execution_count": 19,
   "metadata": {},
   "outputs": [],
   "source": [
    "let FA = List.zip fs aCoefs"
   ]
  },
  {
   "cell_type": "markdown",
   "metadata": {},
   "source": [
    "## Compute the estimated\n",
    "As data now we take `x` between the max and min, and estimate corresponding `y`."
   ]
  },
  {
   "cell_type": "code",
   "execution_count": 20,
   "metadata": {},
   "outputs": [],
   "source": [
    "let xMin, xMax = List.max X, List.min X\n",
    "let xEst = [ xMin .. (xMax - xMin) / 100. .. xMax ]\n",
    "let yEst = xEst |> List.map (fun x -> FA |> List.map (fun (f, a) -> (f <|- (\"x\", x)) * a) |> listAdd) |> List.map (fun x -> x.EvalNumerical() |> double)"
   ]
  },
  {
   "cell_type": "markdown",
   "metadata": {},
   "source": [
    "## Visualize\n",
    "Display the initial data and our estimator"
   ]
  },
  {
   "cell_type": "code",
   "execution_count": 21,
   "metadata": {},
   "outputs": [
    {
     "data": {
      "text/html": [
       "<div id=\"d64dfa57-8dfa-458f-b808-b80ff0a6c8ba\"><!-- Plotly chart will be drawn inside this DIV --></div>\r\n",
       "<script type=\"text/javascript\">\r\n",
       "\r\n",
       "            var renderPlotly_d64dfa578dfa458fb808b80ff0a6c8ba = function() {\r\n",
       "            var fsharpPlotlyRequire = requirejs.config({context:'fsharp-plotly',paths:{plotly:'https://cdn.plot.ly/plotly-2.6.3.min'}}) || require;\r\n",
       "            fsharpPlotlyRequire(['plotly'], function(Plotly) {\r\n",
       "\r\n",
       "            var data = [{\"type\":\"scatter\",\"mode\":\"markers\",\"x\":[1.0,2.0,6.0,8.0],\"y\":[1.0,3.0,5.0,9.5],\"marker\":{},\"line\":{}},{\"type\":\"scatter\",\"mode\":\"markers\",\"x\":[8.0,7.93,7.859999999999999,7.789999999999999,7.719999999999999,7.649999999999999,7.579999999999998,7.509999999999998,7.439999999999998,7.369999999999997,7.299999999999997,7.229999999999997,7.159999999999997,7.089999999999996,7.019999999999996,6.949999999999996,6.8799999999999955,6.809999999999995,6.739999999999995,6.669999999999995,6.599999999999994,6.529999999999994,6.459999999999994,6.3899999999999935,6.319999999999993,6.249999999999993,6.179999999999993,6.109999999999992,6.039999999999992,5.969999999999992,5.8999999999999915,5.829999999999991,5.759999999999991,5.689999999999991,5.61999999999999,5.54999999999999,5.47999999999999,5.4099999999999895,5.339999999999989,5.269999999999989,5.199999999999989,5.129999999999988,5.059999999999988,4.989999999999988,4.9199999999999875,4.849999999999987,4.779999999999987,4.709999999999987,4.639999999999986,4.569999999999986,4.499999999999986,4.4299999999999855,4.359999999999985,4.289999999999985,4.219999999999985,4.149999999999984,4.079999999999984,4.009999999999984,3.939999999999984,3.869999999999984,3.7999999999999843,3.7299999999999844,3.6599999999999846,3.5899999999999848,3.519999999999985,3.449999999999985,3.3799999999999852,3.3099999999999854,3.2399999999999856,3.1699999999999857,3.099999999999986,3.029999999999986,2.959999999999986,2.8899999999999864,2.8199999999999865,2.7499999999999867,2.679999999999987,2.609999999999987,2.539999999999987,2.4699999999999873,2.3999999999999875,2.3299999999999876,2.259999999999988,2.189999999999988,2.119999999999988,2.0499999999999883,1.9799999999999882,1.9099999999999882,1.839999999999988,1.769999999999988,1.699999999999988,1.629999999999988,1.5599999999999878,1.4899999999999878,1.4199999999999877,1.3499999999999877,1.2799999999999876,1.2099999999999875,1.1399999999999875,1.0699999999999874],\"y\":[8.561068702290076,8.487595419847327,8.41412213740458,8.340648854961831,8.267175572519083,8.193702290076335,8.120229007633586,8.046755725190838,7.973282442748089,7.899809160305341,7.826335877862593,7.7528625954198445,7.679389312977095,7.605916030534347,7.532442748091599,7.458969465648851,7.385496183206102,7.3120229007633535,7.238549618320605,7.165076335877857,7.091603053435109,7.01812977099236,6.944656488549612,6.871183206106863,6.797709923664115,6.724236641221367,6.650763358778618,6.57729007633587,6.5038167938931215,6.430343511450373,6.356870229007624,6.283396946564876,6.209923664122128,6.13645038167938,6.062977099236631,5.989503816793882,5.916030534351134,5.842557251908386,5.769083969465638,5.6956106870228895,5.62213740458014,5.548664122137392,5.475190839694644,5.401717557251896,5.328244274809147,5.2547709923663986,5.18129770992365,5.107824427480902,5.034351145038154,4.960877862595405,4.887404580152657,4.8139312977099085,4.74045801526716,4.666984732824412,4.593511450381663,4.520038167938915,4.446564885496167,4.373091603053418,4.29961832061067,4.226145038167922,4.152671755725175,4.0791984732824265,4.005725190839678,3.9322519083969305,3.8587786259541828,3.7853053435114346,3.711832061068687,3.638358778625939,3.564885496183191,3.491412213740443,3.417938931297695,3.344465648854947,3.2709923664121994,3.197519083969451,3.1240458015267034,3.0505725190839557,2.9770992366412075,2.9036259541984597,2.8301526717557115,2.7566793893129637,2.683206106870216,2.609732824427468,2.53625954198472,2.4627862595419723,2.389312977099224,2.3158396946564763,2.242366412213728,2.16889312977098,2.0954198473282317,2.0219465648854835,1.9484732824427355,1.8749999999999873,1.8015267175572391,1.728053435114491,1.6545801526717427,1.5811068702289948,1.5076335877862466,1.4341603053434984,1.3606870229007502,1.287213740458002],\"marker\":{},\"line\":{}}];\r\n",
       "            var layout = {\"width\":600,\"height\":600,\"template\":{\"layout\":{\"title\":{\"x\":0.05},\"font\":{\"color\":\"rgba(42, 63, 95, 1.0)\"},\"paper_bgcolor\":\"rgba(255, 255, 255, 1.0)\",\"plot_bgcolor\":\"rgba(229, 236, 246, 1.0)\",\"autotypenumbers\":\"strict\",\"colorscale\":{\"diverging\":[[0.0,\"#8e0152\"],[0.1,\"#c51b7d\"],[0.2,\"#de77ae\"],[0.3,\"#f1b6da\"],[0.4,\"#fde0ef\"],[0.5,\"#f7f7f7\"],[0.6,\"#e6f5d0\"],[0.7,\"#b8e186\"],[0.8,\"#7fbc41\"],[0.9,\"#4d9221\"],[1.0,\"#276419\"]],\"sequential\":[[0.0,\"#0d0887\"],[0.1111111111111111,\"#46039f\"],[0.2222222222222222,\"#7201a8\"],[0.3333333333333333,\"#9c179e\"],[0.4444444444444444,\"#bd3786\"],[0.5555555555555556,\"#d8576b\"],[0.6666666666666666,\"#ed7953\"],[0.7777777777777778,\"#fb9f3a\"],[0.8888888888888888,\"#fdca26\"],[1.0,\"#f0f921\"]],\"sequentialminus\":[[0.0,\"#0d0887\"],[0.1111111111111111,\"#46039f\"],[0.2222222222222222,\"#7201a8\"],[0.3333333333333333,\"#9c179e\"],[0.4444444444444444,\"#bd3786\"],[0.5555555555555556,\"#d8576b\"],[0.6666666666666666,\"#ed7953\"],[0.7777777777777778,\"#fb9f3a\"],[0.8888888888888888,\"#fdca26\"],[1.0,\"#f0f921\"]]},\"hovermode\":\"closest\",\"hoverlabel\":{\"align\":\"left\"},\"coloraxis\":{\"colorbar\":{\"outlinewidth\":0.0,\"ticks\":\"\"}},\"geo\":{\"showland\":true,\"landcolor\":\"rgba(229, 236, 246, 1.0)\",\"showlakes\":true,\"lakecolor\":\"rgba(255, 255, 255, 1.0)\",\"subunitcolor\":\"rgba(255, 255, 255, 1.0)\",\"bgcolor\":\"rgba(255, 255, 255, 1.0)\"},\"mapbox\":{\"style\":\"light\"},\"polar\":{\"bgcolor\":\"rgba(229, 236, 246, 1.0)\",\"radialaxis\":{\"linecolor\":\"rgba(255, 255, 255, 1.0)\",\"gridcolor\":\"rgba(255, 255, 255, 1.0)\",\"ticks\":\"\"},\"angularaxis\":{\"linecolor\":\"rgba(255, 255, 255, 1.0)\",\"gridcolor\":\"rgba(255, 255, 255, 1.0)\",\"ticks\":\"\"}},\"scene\":{\"xaxis\":{\"ticks\":\"\",\"linecolor\":\"rgba(255, 255, 255, 1.0)\",\"gridcolor\":\"rgba(255, 255, 255, 1.0)\",\"gridwidth\":2.0,\"zerolinecolor\":\"rgba(255, 255, 255, 1.0)\",\"backgroundcolor\":\"rgba(229, 236, 246, 1.0)\",\"showbackground\":true},\"yaxis\":{\"ticks\":\"\",\"linecolor\":\"rgba(255, 255, 255, 1.0)\",\"gridcolor\":\"rgba(255, 255, 255, 1.0)\",\"gridwidth\":2.0,\"zerolinecolor\":\"rgba(255, 255, 255, 1.0)\",\"backgroundcolor\":\"rgba(229, 236, 246, 1.0)\",\"showbackground\":true},\"zaxis\":{\"ticks\":\"\",\"linecolor\":\"rgba(255, 255, 255, 1.0)\",\"gridcolor\":\"rgba(255, 255, 255, 1.0)\",\"gridwidth\":2.0,\"zerolinecolor\":\"rgba(255, 255, 255, 1.0)\",\"backgroundcolor\":\"rgba(229, 236, 246, 1.0)\",\"showbackground\":true}},\"ternary\":{\"aaxis\":{\"ticks\":\"\",\"linecolor\":\"rgba(255, 255, 255, 1.0)\",\"gridcolor\":\"rgba(255, 255, 255, 1.0)\"},\"baxis\":{\"ticks\":\"\",\"linecolor\":\"rgba(255, 255, 255, 1.0)\",\"gridcolor\":\"rgba(255, 255, 255, 1.0)\"},\"caxis\":{\"ticks\":\"\",\"linecolor\":\"rgba(255, 255, 255, 1.0)\",\"gridcolor\":\"rgba(255, 255, 255, 1.0)\"},\"bgcolor\":\"rgba(229, 236, 246, 1.0)\"},\"xaxis\":{\"title\":{\"standoff\":15},\"ticks\":\"\",\"automargin\":true,\"linecolor\":\"rgba(255, 255, 255, 1.0)\",\"gridcolor\":\"rgba(255, 255, 255, 1.0)\",\"zerolinecolor\":\"rgba(255, 255, 255, 1.0)\",\"zerolinewidth\":2.0},\"yaxis\":{\"title\":{\"standoff\":15},\"ticks\":\"\",\"automargin\":true,\"linecolor\":\"rgba(255, 255, 255, 1.0)\",\"gridcolor\":\"rgba(255, 255, 255, 1.0)\",\"zerolinecolor\":\"rgba(255, 255, 255, 1.0)\",\"zerolinewidth\":2.0},\"annotationdefaults\":{\"arrowcolor\":\"#2a3f5f\",\"arrowhead\":0,\"arrowwidth\":1},\"shapedefaults\":{\"line\":{\"color\":\"rgba(42, 63, 95, 1.0)\"}},\"colorway\":[\"rgba(99, 110, 250, 1.0)\",\"rgba(239, 85, 59, 1.0)\",\"rgba(0, 204, 150, 1.0)\",\"rgba(171, 99, 250, 1.0)\",\"rgba(255, 161, 90, 1.0)\",\"rgba(25, 211, 243, 1.0)\",\"rgba(255, 102, 146, 1.0)\",\"rgba(182, 232, 128, 1.0)\",\"rgba(255, 151, 255, 1.0)\",\"rgba(254, 203, 82, 1.0)\"]},\"data\":{\"bar\":[{\"marker\":{\"line\":{\"color\":\"rgba(229, 236, 246, 1.0)\",\"width\":0.5},\"pattern\":{\"fillmode\":\"overlay\",\"size\":10,\"solidity\":0.2}},\"errorx\":{\"color\":\"rgba(42, 63, 95, 1.0)\"},\"errory\":{\"color\":\"rgba(42, 63, 95, 1.0)\"}}],\"barpolar\":[{\"marker\":{\"line\":{\"color\":\"rgba(229, 236, 246, 1.0)\",\"width\":0.5},\"pattern\":{\"fillmode\":\"overlay\",\"size\":10,\"solidity\":0.2}}}],\"carpet\":[{\"aaxis\":{\"linecolor\":\"rgba(255, 255, 255, 1.0)\",\"gridcolor\":\"rgba(255, 255, 255, 1.0)\",\"endlinecolor\":\"rgba(42, 63, 95, 1.0)\",\"minorgridcolor\":\"rgba(255, 255, 255, 1.0)\",\"startlinecolor\":\"rgba(42, 63, 95, 1.0)\"},\"baxis\":{\"linecolor\":\"rgba(255, 255, 255, 1.0)\",\"gridcolor\":\"rgba(255, 255, 255, 1.0)\",\"endlinecolor\":\"rgba(42, 63, 95, 1.0)\",\"minorgridcolor\":\"rgba(255, 255, 255, 1.0)\",\"startlinecolor\":\"rgba(42, 63, 95, 1.0)\"}}],\"choropleth\":[{\"colorbar\":{\"outlinewidth\":0.0,\"ticks\":\"\"},\"colorscale\":[[0.0,\"#0d0887\"],[0.1111111111111111,\"#46039f\"],[0.2222222222222222,\"#7201a8\"],[0.3333333333333333,\"#9c179e\"],[0.4444444444444444,\"#bd3786\"],[0.5555555555555556,\"#d8576b\"],[0.6666666666666666,\"#ed7953\"],[0.7777777777777778,\"#fb9f3a\"],[0.8888888888888888,\"#fdca26\"],[1.0,\"#f0f921\"]]}],\"contour\":[{\"colorbar\":{\"outlinewidth\":0.0,\"ticks\":\"\"},\"colorscale\":[[0.0,\"#0d0887\"],[0.1111111111111111,\"#46039f\"],[0.2222222222222222,\"#7201a8\"],[0.3333333333333333,\"#9c179e\"],[0.4444444444444444,\"#bd3786\"],[0.5555555555555556,\"#d8576b\"],[0.6666666666666666,\"#ed7953\"],[0.7777777777777778,\"#fb9f3a\"],[0.8888888888888888,\"#fdca26\"],[1.0,\"#f0f921\"]]}],\"contourcarpet\":[{\"colorbar\":{\"outlinewidth\":0.0,\"ticks\":\"\"}}],\"heatmap\":[{\"colorbar\":{\"outlinewidth\":0.0,\"ticks\":\"\"},\"colorscale\":[[0.0,\"#0d0887\"],[0.1111111111111111,\"#46039f\"],[0.2222222222222222,\"#7201a8\"],[0.3333333333333333,\"#9c179e\"],[0.4444444444444444,\"#bd3786\"],[0.5555555555555556,\"#d8576b\"],[0.6666666666666666,\"#ed7953\"],[0.7777777777777778,\"#fb9f3a\"],[0.8888888888888888,\"#fdca26\"],[1.0,\"#f0f921\"]]}],\"heatmapgl\":[{\"colorbar\":{\"outlinewidth\":0.0,\"ticks\":\"\"},\"colorscale\":[[0.0,\"#0d0887\"],[0.1111111111111111,\"#46039f\"],[0.2222222222222222,\"#7201a8\"],[0.3333333333333333,\"#9c179e\"],[0.4444444444444444,\"#bd3786\"],[0.5555555555555556,\"#d8576b\"],[0.6666666666666666,\"#ed7953\"],[0.7777777777777778,\"#fb9f3a\"],[0.8888888888888888,\"#fdca26\"],[1.0,\"#f0f921\"]]}],\"histogram\":[{\"marker\":{\"pattern\":{\"fillmode\":\"overlay\",\"size\":10,\"solidity\":0.2}}}],\"histogram2d\":[{\"colorbar\":{\"outlinewidth\":0.0,\"ticks\":\"\"},\"colorscale\":[[0.0,\"#0d0887\"],[0.1111111111111111,\"#46039f\"],[0.2222222222222222,\"#7201a8\"],[0.3333333333333333,\"#9c179e\"],[0.4444444444444444,\"#bd3786\"],[0.5555555555555556,\"#d8576b\"],[0.6666666666666666,\"#ed7953\"],[0.7777777777777778,\"#fb9f3a\"],[0.8888888888888888,\"#fdca26\"],[1.0,\"#f0f921\"]]}],\"histogram2dcontour\":[{\"colorbar\":{\"outlinewidth\":0.0,\"ticks\":\"\"},\"colorscale\":[[0.0,\"#0d0887\"],[0.1111111111111111,\"#46039f\"],[0.2222222222222222,\"#7201a8\"],[0.3333333333333333,\"#9c179e\"],[0.4444444444444444,\"#bd3786\"],[0.5555555555555556,\"#d8576b\"],[0.6666666666666666,\"#ed7953\"],[0.7777777777777778,\"#fb9f3a\"],[0.8888888888888888,\"#fdca26\"],[1.0,\"#f0f921\"]]}],\"mesh3d\":[{\"colorbar\":{\"outlinewidth\":0.0,\"ticks\":\"\"}}],\"parcoords\":[{\"line\":{\"colorbar\":{\"outlinewidth\":0.0,\"ticks\":\"\"}}}],\"pie\":[{\"automargin\":true}],\"scatter\":[{\"marker\":{\"colorbar\":{\"outlinewidth\":0.0,\"ticks\":\"\"}}}],\"scatter3d\":[{\"marker\":{\"colorbar\":{\"outlinewidth\":0.0,\"ticks\":\"\"}},\"line\":{\"colorbar\":{\"outlinewidth\":0.0,\"ticks\":\"\"}}}],\"scattercarpet\":[{\"marker\":{\"colorbar\":{\"outlinewidth\":0.0,\"ticks\":\"\"}}}],\"scattergeo\":[{\"marker\":{\"colorbar\":{\"outlinewidth\":0.0,\"ticks\":\"\"}}}],\"scattergl\":[{\"marker\":{\"colorbar\":{\"outlinewidth\":0.0,\"ticks\":\"\"}}}],\"scattermapbox\":[{\"marker\":{\"colorbar\":{\"outlinewidth\":0.0,\"ticks\":\"\"}}}],\"scatterpolar\":[{\"marker\":{\"colorbar\":{\"outlinewidth\":0.0,\"ticks\":\"\"}}}],\"scatterpolargl\":[{\"marker\":{\"colorbar\":{\"outlinewidth\":0.0,\"ticks\":\"\"}}}],\"scatterternary\":[{\"marker\":{\"colorbar\":{\"outlinewidth\":0.0,\"ticks\":\"\"}}}],\"surface\":[{\"colorbar\":{\"outlinewidth\":0.0,\"ticks\":\"\"},\"colorscale\":[[0.0,\"#0d0887\"],[0.1111111111111111,\"#46039f\"],[0.2222222222222222,\"#7201a8\"],[0.3333333333333333,\"#9c179e\"],[0.4444444444444444,\"#bd3786\"],[0.5555555555555556,\"#d8576b\"],[0.6666666666666666,\"#ed7953\"],[0.7777777777777778,\"#fb9f3a\"],[0.8888888888888888,\"#fdca26\"],[1.0,\"#f0f921\"]]}],\"table\":[{\"cells\":{\"fill\":{\"color\":\"rgba(235, 240, 248, 1.0)\"},\"line\":{\"color\":\"rgba(255, 255, 255, 1.0)\"}},\"header\":{\"fill\":{\"color\":\"rgba(200, 212, 227, 1.0)\"},\"line\":{\"color\":\"rgba(255, 255, 255, 1.0)\"}}}]}}};\r\n",
       "            var config = {\"responsive\":true};\r\n",
       "            Plotly.newPlot('d64dfa57-8dfa-458f-b808-b80ff0a6c8ba', data, layout, config);\r\n",
       "});\r\n",
       "            };\r\n",
       "            if ((typeof(requirejs) !==  typeof(Function)) || (typeof(requirejs.config) !== typeof(Function))) {\r\n",
       "                var script = document.createElement(\"script\");\r\n",
       "                script.setAttribute(\"src\", \"https://cdnjs.cloudflare.com/ajax/libs/require.js/2.3.6/require.min.js\");\r\n",
       "                script.onload = function(){\r\n",
       "                    renderPlotly_d64dfa578dfa458fb808b80ff0a6c8ba();\r\n",
       "                };\r\n",
       "                document.getElementsByTagName(\"head\")[0].appendChild(script);\r\n",
       "            }\r\n",
       "            else {\r\n",
       "                renderPlotly_d64dfa578dfa458fb808b80ff0a6c8ba();\r\n",
       "            }\r\n",
       "</script>\r\n"
      ]
     },
     "execution_count": 21,
     "metadata": {},
     "output_type": "execute_result"
    }
   ],
   "source": [
    "open Plotly.NET\n",
    "let chart1 = Chart.Point(X, Y)\n",
    "let chart2 = Chart.Point(xEst, yEst)\n",
    "Chart.combine [chart1; chart2]"
   ]
  }
 ],
 "metadata": {
  "kernelspec": {
   "display_name": ".NET (F#)",
   "language": "F#",
   "name": ".net-fsharp"
  },
  "language_info": {
   "file_extension": ".fs",
   "mimetype": "text/x-fsharp",
   "name": "F#",
   "pygments_lexer": "fsharp",
   "version": "5.0"
  },
  "orig_nbformat": 4
 },
 "nbformat": 4,
 "nbformat_minor": 2
}
